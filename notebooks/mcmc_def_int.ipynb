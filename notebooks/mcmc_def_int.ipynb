{
  "nbformat": 4,
  "nbformat_minor": 0,
  "metadata": {
    "colab": {
      "provenance": [],
      "authorship_tag": "ABX9TyMQSYJPIlCmxIGcCp+ARfQs",
      "include_colab_link": true
    },
    "kernelspec": {
      "name": "python3",
      "display_name": "Python 3"
    },
    "language_info": {
      "name": "python"
    }
  },
  "cells": [
    {
      "cell_type": "markdown",
      "metadata": {
        "id": "view-in-github",
        "colab_type": "text"
      },
      "source": [
        "<a href=\"https://colab.research.google.com/github/drica-monteiro/intro_estat/blob/main/mcmc_def_int.ipynb\" target=\"_parent\"><img src=\"https://colab.research.google.com/assets/colab-badge.svg\" alt=\"Open In Colab\"/></a>"
      ]
    },
    {
      "cell_type": "markdown",
      "source": [
        "As the previus notebook explored the integrals over the real line, now we want to compute definite integrals as $$\\int_a^bh(x)f(x)dx.$$ Note that we can turn this integral into a integral over $\\mathbb{R}$ w.r.t a distribution just by rewriting\n",
        "$$\\int_\\mathbb{R}h(x)f(x)\\cdot \\mathbb{1}_{[a,b]}(x)dx = \\alpha \\cdot \\int_\\mathbb{R}h(x)P(x)dx$$\n",
        "where $P(x) = \\frac{f(x)}{\\alpha} \\mathbb{1}_{[a,b]} $ is a distribution. To turn $P$ a distribution, we need to guarantee that it integrates to one, that is,  \n",
        "$$\\alpha = \\int_a^bf(x)dx.$$\n",
        "The idea is that the preivous Metropolis Hastings still works when $f$ is not a distribution itself, but it is a distribution up to a constant. Then we can compute $\\hat{I} = \\int_\\mathbb{R}h(x)f(x)\\mathbb{1}_{[a,b]}(x)dx$ as before and plug in\n",
        "$$\\int_a^bh(x)f(x)dx = \\alpha \\hat{I} .$$"
      ],
      "metadata": {
        "id": "zYPerWPOQvWb"
      }
    },
    {
      "cell_type": "code",
      "execution_count": 43,
      "metadata": {
        "id": "XZwmLbnuJKgz"
      },
      "outputs": [],
      "source": [
        "import numpy as np\n",
        "import matplotlib.pyplot as plt\n",
        "from tqdm import tqdm as tqdm"
      ]
    },
    {
      "cell_type": "markdown",
      "source": [
        "The Cauchy distribution has density $f(x)=\\frac{1}{\\pi}\\frac{1}{1+x^2}$. Our goal is to simulate a Markov chain whose stationary distribution is $f$.\n",
        "\n",
        "Our choice for the proposal distribution is $q(y\\mid x)=\\mathcal{N}(x,b^2)$. Then, the acceptance rate is $r(x,y) = \\min\\left\\{\\frac{f(y)}{f(x)}, 1\\right\\} = \\min\\left\\{\\frac{1+x^2}{1+y^2}, 1\\right\\}$. The last step is to generate $U(0,1)\\sim \\text{Unif}(0,1)$ and if $U <r(x,y),$ set $X_{i+1} = Y$ otherwise $X_{i+1} = X_i$."
      ],
      "metadata": {
        "id": "TZ2Wg_BXJXc9"
      }
    },
    {
      "cell_type": "markdown",
      "source": [
        "The normalization factionr $\\alpha$ can be computed analitically."
      ],
      "metadata": {
        "id": "y7xOjPAlVHlS"
      }
    },
    {
      "cell_type": "code",
      "source": [
        "norm_fac = 0.648"
      ],
      "metadata": {
        "id": "8Dx5Y8IetxJD"
      },
      "execution_count": null,
      "outputs": []
    },
    {
      "cell_type": "code",
      "source": [
        "def cau_dens(x):\n",
        "  if -1<=x<=3:\n",
        "    dens = (np.pi*(1+x**2))**(-1)\n",
        "  else:\n",
        "    dens = 0\n",
        "  return dens"
      ],
      "metadata": {
        "id": "GKHUwifxJWev"
      },
      "execution_count": null,
      "outputs": []
    },
    {
      "cell_type": "code",
      "source": [
        "def accep_rate(func, x,y):\n",
        "  f_x = func(x)\n",
        "  f_y = func(y)\n",
        "  rate = f_y/f_x\n",
        "  if rate < 1:\n",
        "    r = rate\n",
        "  else:\n",
        "    r = 1\n",
        "  return r"
      ],
      "metadata": {
        "id": "Qx3CYP6WLbFK"
      },
      "execution_count": null,
      "outputs": []
    },
    {
      "cell_type": "code",
      "source": [
        "def mcmc(func, n_steps = 100000, b = 1):\n",
        "  x0 = 0\n",
        "  xt = x0\n",
        "  samples = []\n",
        "  rates = []\n",
        "  unif_samples = []\n",
        "  for i in range(n_steps):\n",
        "    unif_sample = np.random.uniform(0,1)\n",
        "    yt = np.random.normal(xt, b)\n",
        "    r = accep_rate(func, xt, yt)\n",
        "    rates.append(r)\n",
        "    unif_samples.append(unif_sample)\n",
        "    if unif_sample < r:\n",
        "      xt = yt\n",
        "    samples.append(xt)\n",
        "\n",
        "  burn_in = 1000\n",
        "  samples = np.array(samples[burn_in:])\n",
        "  return np.array(samples), np.array(rates), unif_samples\n"
      ],
      "metadata": {
        "id": "DJdfOrHLMPuU"
      },
      "execution_count": 44,
      "outputs": []
    },
    {
      "cell_type": "code",
      "source": [
        "####COMPUTING DEFINITE INTEGRAL"
      ],
      "metadata": {
        "id": "Y3j4q6IBcjd6"
      },
      "execution_count": null,
      "outputs": []
    },
    {
      "cell_type": "code",
      "source": [
        "def integrand(x):\n",
        "  return x**2"
      ],
      "metadata": {
        "id": "bnA5Jgxydeqz"
      },
      "execution_count": null,
      "outputs": []
    },
    {
      "cell_type": "markdown",
      "source": [
        "We are computing $$\\int_a^bx^2\\frac{1}{\\pi}\\frac{1}{1+x^2}dx$$ using MCMC integration."
      ],
      "metadata": {
        "id": "jd9-Q8Msd167"
      }
    },
    {
      "cell_type": "code",
      "source": [
        "samples, rates, unif_samples = mcmc(cau_dens, b = 30)"
      ],
      "metadata": {
        "id": "7vKKLX2SeEWC"
      },
      "execution_count": 45,
      "outputs": []
    },
    {
      "cell_type": "code",
      "source": [
        "I = norm_fac*np.mean(integrand(samples))\n",
        "I"
      ],
      "metadata": {
        "colab": {
          "base_uri": "https://localhost:8080/"
        },
        "id": "562Tsut8pWx7",
        "outputId": "c87e5df8-4fe6-493d-9654-b851d59f2db0"
      },
      "execution_count": 46,
      "outputs": [
        {
          "output_type": "execute_result",
          "data": {
            "text/plain": [
              "np.float64(0.6554465363834074)"
            ]
          },
          "metadata": {},
          "execution_count": 46
        }
      ]
    },
    {
      "cell_type": "markdown",
      "source": [
        "Symbolab says that this integral is roughlly $≈0.62565$, so our approximation is good enough."
      ],
      "metadata": {
        "id": "p8vePM7PVb5c"
      }
    },
    {
      "cell_type": "markdown",
      "source": [
        "ATTENTION:\n",
        "This class of algorithm is used to compute integrals UP TO A MULTIPLICATIVE CONSTANT. I mean, when you don't know how to compute the normalization factor and it is enough to get a computation of the integral up to a constant. So in practice, there is no way to compute `norm_fac`."
      ],
      "metadata": {
        "id": "WxWLTSdGVmyg"
      }
    },
    {
      "cell_type": "code",
      "source": [],
      "metadata": {
        "id": "qBa-bR20V-xG"
      },
      "execution_count": null,
      "outputs": []
    }
  ]
}