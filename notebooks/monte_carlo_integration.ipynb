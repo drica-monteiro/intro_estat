{
  "nbformat": 4,
  "nbformat_minor": 0,
  "metadata": {
    "colab": {
      "provenance": [],
      "authorship_tag": "ABX9TyMMXqJGPVpb0VAWb0xVs7WA",
      "include_colab_link": true
    },
    "kernelspec": {
      "name": "python3",
      "display_name": "Python 3"
    },
    "language_info": {
      "name": "python"
    }
  },
  "cells": [
    {
      "cell_type": "markdown",
      "metadata": {
        "id": "view-in-github",
        "colab_type": "text"
      },
      "source": [
        "<a href=\"https://colab.research.google.com/github/drica-monteiro/intro_estat/blob/main/monte_carlo_integration.ipynb\" target=\"_parent\"><img src=\"https://colab.research.google.com/assets/colab-badge.svg\" alt=\"Open In Colab\"/></a>"
      ]
    },
    {
      "cell_type": "code",
      "execution_count": null,
      "metadata": {
        "id": "A5NlJK9MXrAm"
      },
      "outputs": [],
      "source": [
        "import numpy as np\n",
        "import matplotlib.pyplot as plt\n",
        "from scipy.integrate import quad"
      ]
    },
    {
      "cell_type": "markdown",
      "source": [
        "We want to compute $$I = \\int_a^bh(x)dx$$ using a probabilistic integration. Note that $$\\int_a^bh(x)dx = \\int_a^bh(x)\\cdot\\frac{1}{b-a}\\cdot (b-a)dx = (b-a)\\int_a^bh(x)f(x)dx$$ where $f(x) = 1/(b-a)$ is the density of a uniform random variable in the interval $(a,b)$. It means that\n",
        "$$I = (b-a)\\mathbb{E}h(X)$$ where $X\\sim Unif(a,b)$."
      ],
      "metadata": {
        "id": "anVx8-HsYYku"
      }
    },
    {
      "cell_type": "markdown",
      "source": [
        "By the Law of Large Numbers, we know $$\\frac{1}{N}\\sum_{i=1}^nh(X_i)\\to \\mathbb{E}h(X)  \\text{ in probability.}$$\n",
        "Then, for large $N$, it is reasonable to compute $I$ as the empirical sum:\n",
        "$$I ≈ (b-a)\\frac{1}{N}\\sum_{i=1}^nh(X_i)$$.\n"
      ],
      "metadata": {
        "id": "b9weHsIpYYnL"
      }
    },
    {
      "cell_type": "code",
      "source": [],
      "metadata": {
        "id": "DMW6DTZ4wjHY"
      },
      "execution_count": null,
      "outputs": []
    },
    {
      "cell_type": "code",
      "source": [
        "def mc_int(func,\n",
        "                a=0,\n",
        "                b=1,\n",
        "                n=1000):\n",
        "    \"\"\"\n",
        "    Monte Carlo integration\n",
        "    \"\"\"\n",
        "\n",
        "    vals = np.random.uniform(a, b, n)\n",
        "    u_func = [func(y) for y in vals]\n",
        "\n",
        "    y_mean = np.sum(u_func)/n\n",
        "    integ = (b-a) * y_mean\n",
        "\n",
        "    return integ, vals"
      ],
      "metadata": {
        "id": "ePj0NQJ-YVrp"
      },
      "execution_count": null,
      "outputs": []
    },
    {
      "cell_type": "code",
      "source": [
        "def func1(x):\n",
        "    # function f(x)=x^2\n",
        "    return x**2"
      ],
      "metadata": {
        "id": "UspwAcLebkJa"
      },
      "execution_count": null,
      "outputs": []
    },
    {
      "cell_type": "code",
      "source": [
        "def func1_int(a, b):\n",
        "    # analytical solution to integral of f(x)\n",
        "    return (1/3)*(b**3-a**3)"
      ],
      "metadata": {
        "id": "eqpSfu8_bp-V"
      },
      "execution_count": null,
      "outputs": []
    },
    {
      "cell_type": "code",
      "source": [
        "print(f\"Monte Carlo solution: {mc_int(func1, -2, 2, 500)[0]: .4f}\")\n",
        "print(f\"Analytical solution: {func1_int(-2, 2): .4f}\")"
      ],
      "metadata": {
        "colab": {
          "base_uri": "https://localhost:8080/"
        },
        "id": "TDcegrC9btMd",
        "outputId": "42ad8d3c-fc40-4c65-f8f7-5b8e6d357681"
      },
      "execution_count": null,
      "outputs": [
        {
          "output_type": "stream",
          "name": "stdout",
          "text": [
            "Monte Carlo solution:  5.2459\n",
            "Analytical solution:  5.3333\n"
          ]
        }
      ]
    },
    {
      "cell_type": "code",
      "source": [
        "a = -2\n",
        "b = 2"
      ],
      "metadata": {
        "id": "4rGqG9T4jomp"
      },
      "execution_count": null,
      "outputs": []
    },
    {
      "cell_type": "code",
      "source": [
        "x = np.linspace(a, b, 10)\n",
        "y = func1(x)\n",
        "_, vals = mc_int(func1, -2, 2, 50)\n",
        "y_vals = func1(vals)"
      ],
      "metadata": {
        "id": "oPLSjqOrpmg9"
      },
      "execution_count": null,
      "outputs": []
    },
    {
      "cell_type": "code",
      "source": [
        "y_vals = np.zeros(vals.shape[0])"
      ],
      "metadata": {
        "id": "7Rrmesb4qFWl"
      },
      "execution_count": null,
      "outputs": []
    },
    {
      "cell_type": "code",
      "source": [
        "plt.plot(x, y)\n",
        "plt.scatter(vals, y_vals, s = 5.5)\n",
        "plt.show()"
      ],
      "metadata": {
        "colab": {
          "base_uri": "https://localhost:8080/",
          "height": 430
        },
        "id": "crnd3pfhpj4c",
        "outputId": "e2fbcb87-0560-4882-ec91-4d57f88f8f25"
      },
      "execution_count": null,
      "outputs": [
        {
          "output_type": "display_data",
          "data": {
            "text/plain": [
              "<Figure size 640x480 with 1 Axes>"
            ],
            "image/png": "[encoded data removed]"
          },
          "metadata": {}
        }
      ]
    },
    {
      "cell_type": "code",
      "source": [],
      "metadata": {
        "id": "WbT7ixkcpt6V"
      },
      "execution_count": null,
      "outputs": []
    }
  ]
}